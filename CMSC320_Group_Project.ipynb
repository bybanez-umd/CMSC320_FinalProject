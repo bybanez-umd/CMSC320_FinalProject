{
  "nbformat": 4,
  "nbformat_minor": 0,
  "metadata": {
    "colab": {
      "provenance": []
    },
    "kernelspec": {
      "name": "python3",
      "display_name": "Python 3"
    },
    "language_info": {
      "name": "python"
    }
  },
  "cells": [
    {
      "cell_type": "code",
      "execution_count": 2,
      "metadata": {
        "id": "16BzB0Wgk97o",
        "colab": {
          "base_uri": "https://localhost:8080/",
          "height": 356
        },
        "outputId": "f8bc1e58-4f01-4430-8254-87f821f25daf"
      },
      "outputs": [
        {
          "output_type": "error",
          "ename": "FileNotFoundError",
          "evalue": "[Errno 2] No such file or directory: 'Motor_Vehicles_Collisions.csv'",
          "traceback": [
            "\u001b[0;31m---------------------------------------------------------------------------\u001b[0m",
            "\u001b[0;31mFileNotFoundError\u001b[0m                         Traceback (most recent call last)",
            "\u001b[0;32m/tmp/ipython-input-2-1816420474.py\u001b[0m in \u001b[0;36m<cell line: 0>\u001b[0;34m()\u001b[0m\n\u001b[1;32m      5\u001b[0m \u001b[0;34m\u001b[0m\u001b[0m\n\u001b[1;32m      6\u001b[0m \u001b[0;31m#TOP 10 MOST DEADLY ROADS IN NY\u001b[0m\u001b[0;34m\u001b[0m\u001b[0;34m\u001b[0m\u001b[0m\n\u001b[0;32m----> 7\u001b[0;31m \u001b[0mcrashes_df\u001b[0m \u001b[0;34m=\u001b[0m \u001b[0mpd\u001b[0m\u001b[0;34m.\u001b[0m\u001b[0mread_csv\u001b[0m\u001b[0;34m(\u001b[0m\u001b[0;34m'Motor_Vehicles_Collisions.csv'\u001b[0m\u001b[0;34m)\u001b[0m\u001b[0;34m\u001b[0m\u001b[0;34m\u001b[0m\u001b[0m\n\u001b[0m\u001b[1;32m      8\u001b[0m \u001b[0;31m#crashes_df.shape\u001b[0m\u001b[0;34m\u001b[0m\u001b[0;34m\u001b[0m\u001b[0m\n\u001b[1;32m      9\u001b[0m \u001b[0;31m#crashes_df.columns\u001b[0m\u001b[0;34m\u001b[0m\u001b[0;34m\u001b[0m\u001b[0m\n",
            "\u001b[0;32m/usr/local/lib/python3.11/dist-packages/pandas/io/parsers/readers.py\u001b[0m in \u001b[0;36mread_csv\u001b[0;34m(filepath_or_buffer, sep, delimiter, header, names, index_col, usecols, dtype, engine, converters, true_values, false_values, skipinitialspace, skiprows, skipfooter, nrows, na_values, keep_default_na, na_filter, verbose, skip_blank_lines, parse_dates, infer_datetime_format, keep_date_col, date_parser, date_format, dayfirst, cache_dates, iterator, chunksize, compression, thousands, decimal, lineterminator, quotechar, quoting, doublequote, escapechar, comment, encoding, encoding_errors, dialect, on_bad_lines, delim_whitespace, low_memory, memory_map, float_precision, storage_options, dtype_backend)\u001b[0m\n\u001b[1;32m   1024\u001b[0m     \u001b[0mkwds\u001b[0m\u001b[0;34m.\u001b[0m\u001b[0mupdate\u001b[0m\u001b[0;34m(\u001b[0m\u001b[0mkwds_defaults\u001b[0m\u001b[0;34m)\u001b[0m\u001b[0;34m\u001b[0m\u001b[0;34m\u001b[0m\u001b[0m\n\u001b[1;32m   1025\u001b[0m \u001b[0;34m\u001b[0m\u001b[0m\n\u001b[0;32m-> 1026\u001b[0;31m     \u001b[0;32mreturn\u001b[0m \u001b[0m_read\u001b[0m\u001b[0;34m(\u001b[0m\u001b[0mfilepath_or_buffer\u001b[0m\u001b[0;34m,\u001b[0m \u001b[0mkwds\u001b[0m\u001b[0;34m)\u001b[0m\u001b[0;34m\u001b[0m\u001b[0;34m\u001b[0m\u001b[0m\n\u001b[0m\u001b[1;32m   1027\u001b[0m \u001b[0;34m\u001b[0m\u001b[0m\n\u001b[1;32m   1028\u001b[0m \u001b[0;34m\u001b[0m\u001b[0m\n",
            "\u001b[0;32m/usr/local/lib/python3.11/dist-packages/pandas/io/parsers/readers.py\u001b[0m in \u001b[0;36m_read\u001b[0;34m(filepath_or_buffer, kwds)\u001b[0m\n\u001b[1;32m    618\u001b[0m \u001b[0;34m\u001b[0m\u001b[0m\n\u001b[1;32m    619\u001b[0m     \u001b[0;31m# Create the parser.\u001b[0m\u001b[0;34m\u001b[0m\u001b[0;34m\u001b[0m\u001b[0m\n\u001b[0;32m--> 620\u001b[0;31m     \u001b[0mparser\u001b[0m \u001b[0;34m=\u001b[0m \u001b[0mTextFileReader\u001b[0m\u001b[0;34m(\u001b[0m\u001b[0mfilepath_or_buffer\u001b[0m\u001b[0;34m,\u001b[0m \u001b[0;34m**\u001b[0m\u001b[0mkwds\u001b[0m\u001b[0;34m)\u001b[0m\u001b[0;34m\u001b[0m\u001b[0;34m\u001b[0m\u001b[0m\n\u001b[0m\u001b[1;32m    621\u001b[0m \u001b[0;34m\u001b[0m\u001b[0m\n\u001b[1;32m    622\u001b[0m     \u001b[0;32mif\u001b[0m \u001b[0mchunksize\u001b[0m \u001b[0;32mor\u001b[0m \u001b[0miterator\u001b[0m\u001b[0;34m:\u001b[0m\u001b[0;34m\u001b[0m\u001b[0;34m\u001b[0m\u001b[0m\n",
            "\u001b[0;32m/usr/local/lib/python3.11/dist-packages/pandas/io/parsers/readers.py\u001b[0m in \u001b[0;36m__init__\u001b[0;34m(self, f, engine, **kwds)\u001b[0m\n\u001b[1;32m   1618\u001b[0m \u001b[0;34m\u001b[0m\u001b[0m\n\u001b[1;32m   1619\u001b[0m         \u001b[0mself\u001b[0m\u001b[0;34m.\u001b[0m\u001b[0mhandles\u001b[0m\u001b[0;34m:\u001b[0m \u001b[0mIOHandles\u001b[0m \u001b[0;34m|\u001b[0m \u001b[0;32mNone\u001b[0m \u001b[0;34m=\u001b[0m \u001b[0;32mNone\u001b[0m\u001b[0;34m\u001b[0m\u001b[0;34m\u001b[0m\u001b[0m\n\u001b[0;32m-> 1620\u001b[0;31m         \u001b[0mself\u001b[0m\u001b[0;34m.\u001b[0m\u001b[0m_engine\u001b[0m \u001b[0;34m=\u001b[0m \u001b[0mself\u001b[0m\u001b[0;34m.\u001b[0m\u001b[0m_make_engine\u001b[0m\u001b[0;34m(\u001b[0m\u001b[0mf\u001b[0m\u001b[0;34m,\u001b[0m \u001b[0mself\u001b[0m\u001b[0;34m.\u001b[0m\u001b[0mengine\u001b[0m\u001b[0;34m)\u001b[0m\u001b[0;34m\u001b[0m\u001b[0;34m\u001b[0m\u001b[0m\n\u001b[0m\u001b[1;32m   1621\u001b[0m \u001b[0;34m\u001b[0m\u001b[0m\n\u001b[1;32m   1622\u001b[0m     \u001b[0;32mdef\u001b[0m \u001b[0mclose\u001b[0m\u001b[0;34m(\u001b[0m\u001b[0mself\u001b[0m\u001b[0;34m)\u001b[0m \u001b[0;34m->\u001b[0m \u001b[0;32mNone\u001b[0m\u001b[0;34m:\u001b[0m\u001b[0;34m\u001b[0m\u001b[0;34m\u001b[0m\u001b[0m\n",
            "\u001b[0;32m/usr/local/lib/python3.11/dist-packages/pandas/io/parsers/readers.py\u001b[0m in \u001b[0;36m_make_engine\u001b[0;34m(self, f, engine)\u001b[0m\n\u001b[1;32m   1878\u001b[0m                 \u001b[0;32mif\u001b[0m \u001b[0;34m\"b\"\u001b[0m \u001b[0;32mnot\u001b[0m \u001b[0;32min\u001b[0m \u001b[0mmode\u001b[0m\u001b[0;34m:\u001b[0m\u001b[0;34m\u001b[0m\u001b[0;34m\u001b[0m\u001b[0m\n\u001b[1;32m   1879\u001b[0m                     \u001b[0mmode\u001b[0m \u001b[0;34m+=\u001b[0m \u001b[0;34m\"b\"\u001b[0m\u001b[0;34m\u001b[0m\u001b[0;34m\u001b[0m\u001b[0m\n\u001b[0;32m-> 1880\u001b[0;31m             self.handles = get_handle(\n\u001b[0m\u001b[1;32m   1881\u001b[0m                 \u001b[0mf\u001b[0m\u001b[0;34m,\u001b[0m\u001b[0;34m\u001b[0m\u001b[0;34m\u001b[0m\u001b[0m\n\u001b[1;32m   1882\u001b[0m                 \u001b[0mmode\u001b[0m\u001b[0;34m,\u001b[0m\u001b[0;34m\u001b[0m\u001b[0;34m\u001b[0m\u001b[0m\n",
            "\u001b[0;32m/usr/local/lib/python3.11/dist-packages/pandas/io/common.py\u001b[0m in \u001b[0;36mget_handle\u001b[0;34m(path_or_buf, mode, encoding, compression, memory_map, is_text, errors, storage_options)\u001b[0m\n\u001b[1;32m    871\u001b[0m         \u001b[0;32mif\u001b[0m \u001b[0mioargs\u001b[0m\u001b[0;34m.\u001b[0m\u001b[0mencoding\u001b[0m \u001b[0;32mand\u001b[0m \u001b[0;34m\"b\"\u001b[0m \u001b[0;32mnot\u001b[0m \u001b[0;32min\u001b[0m \u001b[0mioargs\u001b[0m\u001b[0;34m.\u001b[0m\u001b[0mmode\u001b[0m\u001b[0;34m:\u001b[0m\u001b[0;34m\u001b[0m\u001b[0;34m\u001b[0m\u001b[0m\n\u001b[1;32m    872\u001b[0m             \u001b[0;31m# Encoding\u001b[0m\u001b[0;34m\u001b[0m\u001b[0;34m\u001b[0m\u001b[0m\n\u001b[0;32m--> 873\u001b[0;31m             handle = open(\n\u001b[0m\u001b[1;32m    874\u001b[0m                 \u001b[0mhandle\u001b[0m\u001b[0;34m,\u001b[0m\u001b[0;34m\u001b[0m\u001b[0;34m\u001b[0m\u001b[0m\n\u001b[1;32m    875\u001b[0m                 \u001b[0mioargs\u001b[0m\u001b[0;34m.\u001b[0m\u001b[0mmode\u001b[0m\u001b[0;34m,\u001b[0m\u001b[0;34m\u001b[0m\u001b[0;34m\u001b[0m\u001b[0m\n",
            "\u001b[0;31mFileNotFoundError\u001b[0m: [Errno 2] No such file or directory: 'Motor_Vehicles_Collisions.csv'"
          ]
        }
      ],
      "source": [
        "import pandas as pd\n",
        "from datetime import datetime\n",
        "import string\n",
        "import matplotlib.pyplot as plt\n",
        "\n",
        "#TOP 10 MOST DEADLY ROADS IN NY\n",
        "crashes_df = pd.read_csv('Motor_Vehicles_Collisions.csv')\n",
        "#crashes_df.shape\n",
        "#crashes_df.columns\n",
        "#print(crashes_df)\n",
        "crashes_ndf= crashes_df[['NUMBER OF PERSONS KILLED', 'ON STREET NAME']]\n",
        "#print(crashes_ndf)\n",
        "mask = crashes_ndf['NUMBER OF PERSONS KILLED'] != 0.0\n",
        "mask &= crashes_ndf['NUMBER OF PERSONS KILLED'].notnull()\n",
        "mask &= crashes_ndf['ON STREET NAME'] != 0.0\n",
        "mask &= crashes_ndf['ON STREET NAME'].notnull()\n",
        "filtered = crashes_ndf[mask]\n",
        "#print(filtered)\n",
        "filtered['STREET NAME'] = (filtered['ON STREET NAME'].str.strip().str.lower())\n",
        "crashes_normdf= filtered[['STREET NAME', 'NUMBER OF PERSONS KILLED' ]]\n",
        "#print(crashes_normdf)\n",
        "summed_deaths = (crashes_normdf .groupby('STREET NAME', as_index=False).agg({'NUMBER OF PERSONS KILLED': 'sum'}))\n",
        "#print(summed_deaths)\n",
        "summed_deaths = summed_deaths.sort_values(by='NUMBER OF PERSONS KILLED', ascending=False)\n",
        "summed_deaths = summed_deaths.reset_index(drop=True)\n",
        "#print(summed_deaths)\n",
        "\n",
        "summed_deaths_top=summed_deaths.head(10)\n",
        "ax = summed_deaths_top.plot.bar(\n",
        "    x='STREET NAME',\n",
        "    y='NUMBER OF PERSONS KILLED',\n",
        "    figsize=(10,6),\n",
        "    legend=False,\n",
        "    color='black'\n",
        ")\n",
        "\n",
        "ax.set_xlabel('Street Name')\n",
        "ax.set_ylabel('Deaths')\n",
        "ax.set_title('Top 10 Deadliest Streets in NY')\n",
        "plt.xticks(rotation=45, ha='right')\n",
        "\n",
        "for p in ax.patches:\n",
        "    ax.annotate(\n",
        "        str(int(p.get_height())),\n",
        "        (p.get_x() + p.get_width() / 2, p.get_height()),\n",
        "        ha='center', va='bottom'\n",
        "    )\n",
        "\n",
        "plt.tight_layout()\n",
        "plt.show()\n",
        "#TOP 10 MOST DEADLY ROADS IN NY"
      ]
    },
    {
      "cell_type": "code",
      "source": [
        "# Hypothesis Testing if Frequency of Injuries has a relationship to Weekend / Weekday\n",
        "# Hypothesis: Do weekday crashes result in more injuries per crash than weekend crashes?\n",
        "  # Null Hypothesis: There is no statistical difference in mean injuries for weekday crashes vs weekend crashes\n",
        "  # Alternate Hypothesis: Weekday crashes result in more injuries compared to Weekend crashes.\n",
        "\n",
        "crashes_df = pd.read_csv('Motor_Vehicles_Collisions.csv')\n",
        "from scipy import stats\n",
        "import seaborn as sns\n",
        "import matplotlib.pyplot as plt\n",
        "\n",
        "# Drop rows with missing data for injuries\n",
        "filtered_df = crashes_df.dropna(subset = ['NUMBER OF PERSONS INJURED', 'NUMBER OF PERSONS KILLED'])\n",
        "\n",
        "filtered_df['CRASH DATE'] = pd.to_datetime(filtered_df['CRASH DATE'])\n",
        "\n",
        "# Colums for day of week and weekday/weekend to help filter\n",
        "filtered_df['DAY_OF_WEEK'] = filtered_df['CRASH DATE'].dt.dayofweek\n",
        "filtered_df['IS_WEEKEND'] = filtered_df['DAY_OF_WEEK'] >= 5\n",
        "\n",
        "# Split injury data into two groups: weekday vs weekend\n",
        "weekday_injuries = filtered_df[filtered_df['IS_WEEKEND'] == False]['NUMBER OF PERSONS INJURED']\n",
        "weekend_injuries = filtered_df[filtered_df['IS_WEEKEND'] == True]['NUMBER OF PERSONS INJURED']\n",
        "\n",
        "print(f\"Weekday Injuries: {weekday_injuries}\")\n",
        "print(f\"Weekend Injuries: {weekend_injuries}\")\n",
        "\n",
        "# Use a T-test because we are comparing two group means.\n",
        "# One-tailed because we want to see if weekday crashes result in MORE injuries than weekend crashes (average).\n",
        "t_statistic, p_value = stats.ttest_ind(weekday_injuries, weekend_injuries, alternative = 'greater')\n",
        "\n",
        "# Print the result\n",
        "print(\"T-Test Results:\")\n",
        "print(f\"T-statistic: {t_statistic}\")\n",
        "print(f\"P-value: {p_value}\")\n",
        "\n",
        "# Interpret the Result:\n",
        "print(\"Hypothesis Testing Conclusion based on T-Test results:\")\n",
        "if p_value < 0.05:\n",
        "  print(\"Difference in injuries is statistically significant between weekdays and weekends - We reject the null hypothesis.\")\n",
        "else:\n",
        "  print(\"Difference in injuries is not statistically significant between weekdays and weekends - We fail to reject the null hypothesis.\")\n",
        "\n",
        "\n",
        "# Create a box plot plot to visualize the data\n",
        "filtered_df['DAY_TYPE'] = filtered_df['IS_WEEKEND'].map({True: 'Weekend', False: 'Weekday'})\n",
        "plt.figure(figsize = (10, 6))\n",
        "sns.boxplot(x = 'DAY_TYPE', y = 'NUMBER OF PERSONS INJURED', data = filtered_df)\n",
        "plt.title('Crash Injuries by Day Type')\n",
        "plt.xlabel('Day Type')\n",
        "plt.ylabel('Number of Injuries')\n",
        "plt.show()\n",
        "\n",
        "\n",
        "# Based on this Hypothesis test, we fail to reject the null hypothesis.\n",
        "# The T-statistic of -4.81 and P-Value of 0.99 tell us there is no statistically significant increase in mean crashes for weekdays compared to weekends.\n",
        "\n",
        "\n"
      ],
      "metadata": {
        "id": "SUn3ZQwoLyuQ"
      },
      "execution_count": null,
      "outputs": []
    },
    {
      "cell_type": "code",
      "source": [],
      "metadata": {
        "id": "vPgy-bsbg7Le"
      },
      "execution_count": null,
      "outputs": []
    }
  ]
}